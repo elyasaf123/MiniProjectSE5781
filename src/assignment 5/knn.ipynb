{
  "nbformat": 4,
  "nbformat_minor": 0,
  "metadata": {
    "colab": {
      "name": "Copy of knn1.ipynb",
      "provenance": [],
      "collapsed_sections": [],
      "include_colab_link": true
    },
    "kernelspec": {
      "name": "python3",
      "display_name": "Python 3"
    },
    "language_info": {
      "name": "python"
    }
  },
  "cells": [
    {
      "cell_type": "markdown",
      "metadata": {
        "id": "view-in-github",
        "colab_type": "text"
      },
      "source": [
        "<a href=\"https://colab.research.google.com/github/elyasaf123/MiniProjectSE5781/blob/main/src/assignment%205/knn.ipynb\" target=\"_parent\"><img src=\"https://colab.research.google.com/assets/colab-badge.svg\" alt=\"Open In Colab\"/></a>"
      ]
    },
    {
      "cell_type": "markdown",
      "metadata": {
        "id": "PELNEMlpx2Ri"
      },
      "source": [
        "Import the libraries math (for square root and absolute value) and pandas and numpy for reading csv files."
      ]
    },
    {
      "cell_type": "code",
      "metadata": {
        "id": "mkYTODtExydl"
      },
      "source": [
        "import math\n",
        "import pandas as pd\n",
        "import numpy as np"
      ],
      "execution_count": 123,
      "outputs": []
    },
    {
      "cell_type": "markdown",
      "metadata": {
        "id": "zCgb1pGFx8od"
      },
      "source": [
        "Make an untagged vector, point, and two tagged vectors, data1 and data2:"
      ]
    },
    {
      "cell_type": "code",
      "metadata": {
        "id": "Ifbww56byViT"
      },
      "source": [
        "point = [1, 0, 0, '?'] # (an unknown tag)\n",
        "data1 = [1, 1, 1, 'M']\n",
        "data2 = [1, 3, 0, 'F']\n"
      ],
      "execution_count": 124,
      "outputs": []
    },
    {
      "cell_type": "markdown",
      "metadata": {
        "id": "2hiHzqnsyhW2"
      },
      "source": [
        "Write code to separate the data (X) from the tag (Y).  Your output should be:\n",
        "\n",
        "The vector [1, 1, 1] has tag M\n",
        "\n",
        "The vector [1, 3, 0] has tag F\n"
      ]
    },
    {
      "cell_type": "code",
      "metadata": {
        "id": "CdgKt99HyaKT",
        "colab": {
          "base_uri": "https://localhost:8080/"
        },
        "outputId": "e8cb298c-3853-4194-c213-344d18c0a636"
      },
      "source": [
        "def featureLabel(list,len): # function to seperate data from tag\n",
        "  feature = list[0:len] # The label is at the end of the vector so all there is before is the information\n",
        "  label = list[-1] # The last component in the vector is the label\n",
        "  return feature, label\n",
        "\n",
        "feature1,label1 = featureLabel(data1,3)\n",
        "feature2,label2 = featureLabel(data2,3)\n",
        "print(\"The vector\", feature1, \"has tag\" , label1,\"\\nThe vector\", feature2, \"has tag\" , label2)"
      ],
      "execution_count": 125,
      "outputs": [
        {
          "output_type": "stream",
          "text": [
            "The vector [1, 1, 1] has tag M \n",
            "The vector [1, 3, 0] has tag F\n"
          ],
          "name": "stdout"
        }
      ]
    },
    {
      "cell_type": "markdown",
      "metadata": {
        "id": "Nknnav39yb8C"
      },
      "source": [
        "Now let's classify the point as either M or F.  We'll do this by setting k = 1 and using the Euclidean distance.  We'll define that as: "
      ]
    },
    {
      "cell_type": "code",
      "metadata": {
        "id": "gT0HxYoxzG_-"
      },
      "source": [
        "# We built 3 distance calculation functions for each type of calculation,\n",
        "# each function will get the 2 vectors and their length,\n",
        "# and return the length according to the type of calculation\n",
        "# (Note that no matter in what order you get the first 2 variables in the function)\n",
        "\n",
        "def euclideanDistance(instance1, instance2, length):\n",
        "   distance = 0\n",
        "   for x in range(length):\n",
        "         num1=float(instance1[x])\n",
        "         num2=float(instance2[x])\n",
        "         distance += pow(num1-num2, 2) # We will sum all the squares of the distances\n",
        "   return math.sqrt(distance) # return the square root of the sum we got\n",
        "\n",
        "def manhattanDistance(instance1, instance2, length):\n",
        "   distance = 0\n",
        "   for x in range(length):\n",
        "         num1=float(instance1[x])\n",
        "         num2=float(instance2[x])\n",
        "         distance += abs(num1-num2) # summing all the absolute values of the distances\n",
        "   return distance\n",
        "\n",
        "def hammingDistance(instance1, instance2, length):\n",
        "   distance = 0\n",
        "   for x in range(length):\n",
        "         num1=float(instance1[x])\n",
        "         num2=float(instance2[x])\n",
        "         if num1 != num2: # We will count the cases where the values ​​differ from each other\n",
        "           distance +=1\n",
        "   return distance\n"
      ],
      "execution_count": 126,
      "outputs": []
    },
    {
      "cell_type": "markdown",
      "metadata": {
        "id": "RhO3w2O4zKG8"
      },
      "source": [
        "Now, find out the distance between data1 and point and data2 and point. Output what the tag should be using euclideanDistance."
      ]
    },
    {
      "cell_type": "code",
      "metadata": {
        "id": "rzHsm2KezPie",
        "colab": {
          "base_uri": "https://localhost:8080/"
        },
        "outputId": "8ac9cbe3-f432-45d1-ad1d-23d7556a21ec"
      },
      "source": [
        "# check out the better result for the distance-function between the two vectors\n",
        "if  euclideanDistance(data1,point,3) < euclideanDistance(data2,point,3):\n",
        "  print(label1)\n",
        "else:\n",
        "  print(label2)"
      ],
      "execution_count": 127,
      "outputs": [
        {
          "output_type": "stream",
          "text": [
            "M\n"
          ],
          "name": "stdout"
        }
      ]
    },
    {
      "cell_type": "markdown",
      "metadata": {
        "id": "bImk9yPazRCS"
      },
      "source": [
        "Now, let's get more data from a file, myFile.csv. This code will read it for us:"
      ]
    },
    {
      "cell_type": "code",
      "metadata": {
        "id": "xeInyfvYzbKj"
      },
      "source": [
        "url = 'https://github.com/rosenfa/ai/blob/master/myFile.csv?raw=true'\n",
        "df=pd.read_csv(url,  header=0, error_bad_lines=False) \n",
        "#put data in dataset without header line\n",
        "dataset = np.array(df)"
      ],
      "execution_count": 128,
      "outputs": []
    },
    {
      "cell_type": "markdown",
      "metadata": {
        "id": "X_1JLdAEzdhu"
      },
      "source": [
        "Show that you understand what you read by:\n",
        "\n",
        "1. Printing the first two vectors in the file\n",
        "2. Printing the Euclidean distance between those two vectors"
      ]
    },
    {
      "cell_type": "code",
      "metadata": {
        "id": "e4QT_37TzuWr",
        "colab": {
          "base_uri": "https://localhost:8080/"
        },
        "outputId": "f37cb17c-6989-4cdd-8df4-c38b6c35ba96"
      },
      "source": [
        "vector1,vector2 = dataset[0],dataset[1] # vector1 and vector2 will contain the first two vectors in the file\n",
        "print(\"vector1 = \",vector1,\"\\nvector2 = \",vector2)\n",
        "# using our calculate-func for printing the Euclidean distance between those two vectors\n",
        "print('The Euclidean distance between those two vectors is:\\t', euclideanDistance(vector1,vector2,3))"
      ],
      "execution_count": 129,
      "outputs": [
        {
          "output_type": "stream",
          "text": [
            "vector1 =  [0 1 2 'F'] \n",
            "vector2 =  [1 5 6 'F']\n",
            "The Euclidean distance between those two vectors is:\t 5.744562646538029\n"
          ],
          "name": "stdout"
        }
      ]
    },
    {
      "cell_type": "markdown",
      "metadata": {
        "id": "Mw03nhZuEyUw"
      },
      "source": [
        "Now assume you have a new value for point:\n",
        "\n",
        "[0,0,100]\n",
        "\n",
        "How would you classify this vector using the Euclidean distance function given all of the vectors in the file?\n",
        "\n",
        "In order to help here is a hint:  \n",
        "\n",
        "We suggest defining some type of data struction to store different vectors' distances and their tags like this:"
      ]
    },
    {
      "cell_type": "code",
      "metadata": {
        "id": "oh8ym0_SE7Rb"
      },
      "source": [
        "class distClass:\n",
        "    dist = -1 #distance of current point from test point\n",
        "    tag = '-' #tag of current point\n"
      ],
      "execution_count": 130,
      "outputs": []
    },
    {
      "cell_type": "markdown",
      "metadata": {
        "id": "-KZR5lxOFP2v"
      },
      "source": [
        "You can then add vector distances like this:"
      ]
    },
    {
      "cell_type": "code",
      "metadata": {
        "id": "hdFwOHcCFScU"
      },
      "source": [
        "# A function that receives:\n",
        "# 1. the type of calculation (function),\n",
        "# 2. a test vector for which we want to determine a label,\n",
        "# 3. data-set,\n",
        "# 4. the number of members in the group by which I tag\n",
        "def getDistance(func,point,data,num):\n",
        "  distances = [] # array of distances\n",
        "  for i in range(len(data)): # for each vector in the data set\n",
        "    temp=data[i] # the vector in data set\n",
        "    label=temp[-1] # this vector's label\n",
        "    d=func(point,temp,num) # call to the func to calculate the distance between the vectors\n",
        "    obj = distClass() # one record's distance and tag\n",
        "    obj.dist=d\n",
        "    obj.tag=label\n",
        "    distances.append(obj)\n",
        "  return distances\n",
        "\n",
        "point = [0,0,100]\n",
        "eucDistances = getDistance(euclideanDistance,point,dataset,3) # array of the euclidean Distances\n",
        "manDistances = getDistance(manhattanDistance,point,dataset,3) # array of the manhattan Distances\n",
        "hamDistances = getDistance(hammingDistance,point,dataset,3) # array of the hamming Distances"
      ],
      "execution_count": 131,
      "outputs": []
    },
    {
      "cell_type": "code",
      "metadata": {
        "id": "OTJBcLSJa8SR"
      },
      "source": [
        ""
      ],
      "execution_count": 131,
      "outputs": []
    },
    {
      "cell_type": "markdown",
      "metadata": {
        "id": "67seTigUFbW7"
      },
      "source": [
        "and sort them like this:"
      ]
    },
    {
      "cell_type": "code",
      "metadata": {
        "id": "J0rEdJXKFctw"
      },
      "source": [
        "eucDistances.sort(key=lambda x: x.dist) \n",
        "manDistances.sort(key=lambda x: x.dist) \n",
        "hamDistances.sort(key=lambda x: x.dist) "
      ],
      "execution_count": 132,
      "outputs": []
    },
    {
      "cell_type": "markdown",
      "metadata": {
        "id": "eWzp7vM9FgLm"
      },
      "source": [
        "Questions:\n",
        "\n",
        "1. What is the label for point if k=1?\n",
        "2. What is the label for point if k=3?\n",
        "3. Would the result be different if we used a different distance function like Hamming or Manhattan?"
      ]
    },
    {
      "cell_type": "code",
      "metadata": {
        "id": "tbHJ5OS5GeCw",
        "colab": {
          "base_uri": "https://localhost:8080/"
        },
        "outputId": "97090430-db8d-4540-f5b8-0b98fd97131a"
      },
      "source": [
        "# function which guess what the label will be for each vector in listTag\n",
        "def mostTagged(listTag,k):\n",
        "  # We decide what will be the labele of the vector according to the maximum labeling that is in his group\n",
        "  countM, countF = 0,0 # counters for the labels in the groups\n",
        "  for i in range(k): # for each vector in the group we check its tag\n",
        "    if listTag[i].tag == 'F':\n",
        "      countF += 1\n",
        "    else :\n",
        "      countM += 1\n",
        "  if countF > countM:\n",
        "    return 'F'\n",
        "  else:\n",
        "    return 'M'\n",
        "\n",
        "# reminder: eucDistances, manDistances and hamDistances are the return distance's arrays from 'getDistance' function\n",
        "\n",
        "print('the label for point if k=1 with euclidean Distance is:\\t',mostTagged(eucDistances,1))\n",
        "print('the label for point if k=3 with euclidean Distance is:\\t',mostTagged(eucDistances,3))\n",
        "print('the label for point if k=1 with manhattan Distance is:\\t',mostTagged(manDistances,1))\n",
        "print('the label for point if k=3 with manhattan Distance is:\\t',mostTagged(manDistances,3))\n",
        "print('the label for point if k=1 with hamming Distance is:\\t',mostTagged(hamDistances,1))\n",
        "print('the label for point if k=3 with hamming Distance is:\\t',mostTagged(hamDistances,3))\n"
      ],
      "execution_count": 133,
      "outputs": [
        {
          "output_type": "stream",
          "text": [
            "the label for point if k=1 with euclidean Distance is:\t M\n",
            "the label for point if k=3 with euclidean Distance is:\t M\n",
            "the label for point if k=1 with manhattan Distance is:\t M\n",
            "the label for point if k=3 with manhattan Distance is:\t F\n",
            "the label for point if k=1 with hamming Distance is:\t F\n",
            "the label for point if k=3 with hamming Distance is:\t F\n"
          ],
          "name": "stdout"
        }
      ]
    },
    {
      "cell_type": "markdown",
      "metadata": {
        "id": "7KPzkCfLGxDK"
      },
      "source": [
        "Now let's look at some bigger files: \n",
        "\n",
        "1. mytrain.csv (for training the model)\n",
        "2. mytest.csv (for testing)\n"
      ]
    },
    {
      "cell_type": "code",
      "metadata": {
        "id": "menQ9SEoG_Ag"
      },
      "source": [
        "url = 'https://github.com/rosenfa/ai/blob/master/mytrain.csv?raw=true'\n",
        "train_data = np.array(pd.read_csv(url,  header=0, error_bad_lines=False))\n",
        "url = 'https://github.com/rosenfa/ai/blob/master/mytest.csv?raw=true'\n",
        "test_data = np.array(pd.read_csv(url,  header=0, error_bad_lines=False))"
      ],
      "execution_count": 134,
      "outputs": []
    },
    {
      "cell_type": "code",
      "metadata": {
        "id": "ej1wLymKHPnT",
        "colab": {
          "base_uri": "https://localhost:8080/"
        },
        "outputId": "d3da6f8d-3acc-4f28-e782-32804d14fc5a"
      },
      "source": [
        "print(train_data.shape) # number of records and features\n",
        "print(train_data)"
      ],
      "execution_count": 135,
      "outputs": [
        {
          "output_type": "stream",
          "text": [
            "(100, 30)\n",
            "[[0.317251 0.5400159999999999 0.150514 ... 0.0 0.21200700000000003 'F']\n",
            " [3.8821809999999997 0.0 0.0 ... 0.0 0.0 'F']\n",
            " [1.7907080000000002 0.0 0.0 ... 0.0 0.0 'F']\n",
            " ...\n",
            " [0.0 0.0 0.0 ... 0.0 0.0 'M']\n",
            " [0.0 0.0 0.0 ... 0.0 0.0 'M']\n",
            " [0.0 0.0 0.0 ... 0.0 0.0 'F']]\n"
          ],
          "name": "stdout"
        }
      ]
    },
    {
      "cell_type": "code",
      "metadata": {
        "id": "v9YKMlcPHVWU",
        "colab": {
          "base_uri": "https://localhost:8080/"
        },
        "outputId": "6ea9f7b9-002b-4a2b-ea1e-6b861a7407d8"
      },
      "source": [
        "print(test_data.shape) # number of records and features\n",
        "print(test_data)"
      ],
      "execution_count": 136,
      "outputs": [
        {
          "output_type": "stream",
          "text": [
            "(100, 30)\n",
            "[[2.85985 0.66275 0.0 ... 0.995289 0.0 'F']\n",
            " [0.0 12.998726 0.0 ... 0.0 0.0 'F']\n",
            " [13.231318 0.0 0.0 ... 0.0 0.0 'F']\n",
            " ...\n",
            " [0.0 0.0 0.0 ... 0.0 0.0 'M']\n",
            " [1.688611 0.0 3.204529 ... 0.0 0.0 'M']\n",
            " [0.0 0.0 0.0 ... 0.0 0.0 'M']]\n"
          ],
          "name": "stdout"
        }
      ]
    },
    {
      "cell_type": "markdown",
      "metadata": {
        "id": "hsjBpdObIB7d"
      },
      "source": [
        "I hope by now you understand where we are going with this :)\n",
        "\n",
        "Now implement the knn code with 3 different values for k:\n",
        "1. k = 1\n",
        "2. k = 7\n",
        "3. k = 15\n",
        "\n",
        "and at first use the Euclidean distance.\n",
        "Classify each of the vectors in the test_data dataset using the training data from train_data.  Which value for k did the best?  What accuracy did it give you?\n",
        "\n",
        "Now see if using Hamming or Manhattan distance give any better results for the same values of k.  Once you are done, you should have a total of 9 different results:\n",
        "\n",
        "1. Three results for the different value of k for Euclidean Distance\n",
        "2. Three results for the different value of k for Hamming Distance\n",
        "3. Three results for the different value of k for Manhattan Distance\n",
        "\n",
        "Hint: If you want, you can implement things using the code that the other classes will use as an example for knn. I'll go over that code at the end of the targil (if I have time)."
      ]
    },
    {
      "cell_type": "code",
      "metadata": {
        "id": "dIyZbN4kJBrO",
        "colab": {
          "base_uri": "https://localhost:8080/"
        },
        "outputId": "47ce5336-5a23-4430-fbf4-15f6936dc212"
      },
      "source": [
        "eucSum1 = 0 # A counter that counts the cases where the labeling is accurate using euclidean Distance with k = 1\n",
        "manSum1 = 0 # \" using manhattan Distance with k = 1\n",
        "hamSum1 = 0 # \" using hamming Distance with k = 1\n",
        "\n",
        "eucSum7 = 0 # \" using euclidean Distance with k = 7\n",
        "manSum7 = 0 # \" using manhattan Distance with k = 7\n",
        "hamSum7 = 0 # \" using hamming Distance with k = 7\n",
        "\n",
        "eucSum15 = 0 # \" using euclidean Distance with k = 15\n",
        "manSum15 = 0 # \" using manhattan Distance with k = 15\n",
        "hamSum15 = 0 # \" using hamming Distance with k = 15\n",
        "\n",
        "rowLength,colLength = test_data.shape # We get the data on the the number of vectors and the length of each vector\n",
        "\n",
        "for vector_test in test_data: # for each vector in in the test_data\n",
        "  # note that we use colLength - 2 for the length (num) because the array begin from 0 and and we do not want to use the label\n",
        "  \n",
        "  # calculate the euclidean distances of the vector from the vectors in the train_data and sort them\n",
        "  eucDistances = getDistance(euclideanDistance,vector_test,train_data,colLength-2)\n",
        "  eucDistances.sort(key=lambda x: x.dist)\n",
        "  # calculate the manhattan distances of the vector from the vectors in the train_data and sort them\n",
        "  manDistances = getDistance(manhattanDistance,vector_test,train_data,colLength-2)\n",
        "  manDistances.sort(key=lambda x: x.dist)\n",
        "  # calculate the hamming distances of the vector from the vectors in the train_data and sort them\n",
        "  hamDistances = getDistance(hammingDistance,vector_test,train_data,colLength-2)\n",
        "  hamDistances.sort(key=lambda x: x.dist) \n",
        "\n",
        "  feat_test =  vector_test[-1] # the real label\n",
        "\n",
        " # by mostTagged we set the label so we want to check if our determination is correct and to sum the correct lables\n",
        "  if mostTagged(eucDistances,1) == feat_test:\n",
        "    eucSum1 += 1\n",
        "  if mostTagged(manDistances,1) == feat_test:\n",
        "    manSum1 += 1\n",
        "  if mostTagged(hamDistances,1) == feat_test:\n",
        "    hamSum1 += 1\n",
        "\n",
        "  if  mostTagged(eucDistances,7) == feat_test:\n",
        "    eucSum7 += 1\n",
        "  if mostTagged(manDistances,7) == feat_test:\n",
        "    manSum7 += 1\n",
        "  if mostTagged(hamDistances,7) == feat_test:\n",
        "    hamSum7 += 1\n",
        "\n",
        "  if mostTagged(eucDistances,15) == feat_test:\n",
        "    eucSum15 += 1\n",
        "  if mostTagged(manDistances,15) == feat_test:\n",
        "    manSum15 += 1\n",
        "  if mostTagged(hamDistances,15) == feat_test:\n",
        "    hamSum15 += 1\n",
        "\n",
        "print(\"euc acc1:\",eucSum1/rowLength) # the accuracy is (the correct lables) divide by the numbers of vectors\n",
        "print(\"man acc1:\",manSum1/rowLength)\n",
        "print(\"ham acc1:\",hamSum1/rowLength)\n",
        "print(\"euc acc7:\",eucSum7/rowLength)\n",
        "print(\"man acc7:\",manSum7/rowLength)\n",
        "print(\"ham acc7:\",hamSum7/rowLength)\n",
        "print(\"euc acc15:\",eucSum15/rowLength)\n",
        "print(\"man acc15:\",manSum15/rowLength)\n",
        "print(\"ham acc15:\",hamSum15/rowLength)\n",
        "\n",
        "print('\\n')\n",
        "\n",
        "print('The values ​for k that made the best result are:\\n')\n",
        "print('euclidean Distance:\\tk = 7\\t','acc:\\t', eucSum7/rowLength)\n",
        "print('manhattan Distance:\\tk = 15\\t','acc:\\t', manSum15/rowLength)\n",
        "print('hamming Distance:\\tk = 1\\t','acc:\\t', hamSum1/rowLength)"
      ],
      "execution_count": 137,
      "outputs": [
        {
          "output_type": "stream",
          "text": [
            "euc acc1: 0.5\n",
            "man acc1: 0.61\n",
            "ham acc1: 0.61\n",
            "euc acc7: 0.74\n",
            "man acc7: 0.64\n",
            "ham acc7: 0.55\n",
            "euc acc15: 0.7\n",
            "man acc15: 0.69\n",
            "ham acc15: 0.57\n",
            "\n",
            "\n",
            "The values ​for k that made the best result are:\n",
            "\n",
            "euclidean Distance:\tk = 7\t acc:\t 0.74\n",
            "manhattan Distance:\tk = 15\t acc:\t 0.69\n",
            "hamming Distance:\tk = 1\t acc:\t 0.61\n"
          ],
          "name": "stdout"
        }
      ]
    },
    {
      "cell_type": "markdown",
      "metadata": {
        "id": "HD2PnNuTQ175"
      },
      "source": [
        "הרכב הציון:\n",
        "\n",
        "50% : עבור תשובות נכונות\n",
        "\n",
        "50% : קוד ברור עם תיעוד טוב\n"
      ]
    }
  ]
}